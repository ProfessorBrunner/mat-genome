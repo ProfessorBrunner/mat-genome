{
 "cells": [
  {
   "cell_type": "code",
   "execution_count": 2,
   "metadata": {
    "collapsed": false
   },
   "outputs": [],
   "source": [
    "import requests\n",
    "import json\n",
    "import numpy as np\n",
    "import itertools\n",
    "\n",
    "from pymatgen.phasediagram.pdanalyzer import PDAnalyzer\n",
    "from pymatgen.matproj.rest import MPRester \n",
    "from pymatgen.phasediagram.pdmaker import PhaseDiagram\n",
    "from pymatgen.core.periodic_table import Element\n",
    "from pymatgen.core.composition import Composition\n",
    "\n",
    "\n",
    "API_key = 'DMB61QUSzJgKEnmp' # Get API key from https://materialsproject.org/open\n",
    "mp = MPRester(API_key)\n"
   ]
  },
  {
   "cell_type": "code",
   "execution_count": 3,
   "metadata": {
    "collapsed": false
   },
   "outputs": [
    {
     "data": {
      "text/plain": [
       "8573"
      ]
     },
     "execution_count": 3,
     "metadata": {},
     "output_type": "execute_result"
    }
   ],
   "source": [
    "### Get all stable Ternary systems in the database\n",
    "data = {\n",
    "    'criteria': {\"nelements\" : 3,\"e_above_hull\" :0}, # 0 energy above hull (stability measure)\n",
    "    'properties': ['chemsys']\n",
    "}\n",
    "r = requests.post('https://materialsproject.org/rest/v2/query',\n",
    "                 headers={'X-API-KEY': API_key},\n",
    "                 data={k: json.dumps(v) for k,v in data.iteritems()})\n",
    "response = r.json() # a dict of all stable ternary systems (need to check for duplicates)\n",
    "\n",
    "ternary_sys = []\n",
    "for e in response['response']:\n",
    "    ternary_sys.append(e['chemsys'].split('-'))\n",
    "# remove duplicates\n",
    "ternary_sys.sort()\n",
    "ternary_sys = list(ternary_sys for ternary_sys,_ in itertools.groupby(ternary_sys)) \n",
    "\n",
    "for i in range(0,len(ternary_sys)):\n",
    "    ternary_sys[i] = '-'.join(ternary_sys[i])\n",
    "len(ternary_sys)"
   ]
  },
  {
   "cell_type": "code",
   "execution_count": 4,
   "metadata": {
    "collapsed": false
   },
   "outputs": [
    {
     "data": {
      "text/plain": [
       "3916"
      ]
     },
     "execution_count": 4,
     "metadata": {},
     "output_type": "execute_result"
    }
   ],
   "source": [
    "# Dict of all Binary systems\n",
    "data = {\n",
    "    'criteria': {\"nelements\" : 1},\n",
    "    'properties': ['elements']\n",
    "}\n",
    "r = requests.post('https://materialsproject.org/rest/v2/query',\n",
    "                 headers={'X-API-KEY': API_key},\n",
    "                 data={k: json.dumps(v) for k,v in data.iteritems()})\n",
    "elements = r.json()\n",
    "\n",
    "# Create a list of all binary systems.\n",
    "import itertools\n",
    "element_list = []\n",
    "binary_sys = []\n",
    "for i in range(0 , len (elements['response'])):\n",
    "    element_list.append(elements['response'][i]['elements'][0])\n",
    "element_list = list(set(element_list))\n",
    "for subset in itertools.combinations(element_list,2):\n",
    "     binary_sys.append(subset[0]+'-'+subset[1])\n",
    "binary_sys = sorted (binary_sys)    \n",
    "len(binary_sys) # 3916 systems; combination of 89 known elements"
   ]
  },
  {
   "cell_type": "code",
   "execution_count": 16,
   "metadata": {
    "collapsed": false
   },
   "outputs": [],
   "source": [
    "def prop():\n",
    "    p = np.arange(0.05,1,0.05)\n",
    "    p = np.around(p,decimals=2)\n",
    "    p = p.tolist()\n",
    "    return p"
   ]
  },
  {
   "cell_type": "code",
   "execution_count": 17,
   "metadata": {
    "collapsed": false
   },
   "outputs": [
    {
     "name": "stdout",
     "output_type": "stream",
     "text": [
      "Exception reporting mode: Context\n",
      "Doctest mode is: OFF\n"
     ]
    }
   ],
   "source": [
    "%doctest_mode\n",
    "from numba import jit\n",
    "\n",
    "def material_load(d, sep='-', p = prop()):\n",
    "    return_data = []\n",
    "     \n",
    "    d = d.split('-')\n",
    "    \n",
    "    # Create a phase diagram object for the following system:\n",
    "    entry = mp.get_entries_in_chemsys([d[0],d[1]]) # gets the entries of the chemical system\n",
    "    pd = PhaseDiagram(entry) # creates a phasediagram object\n",
    "    pd_analyse = PDAnalyzer(pd) # creates a phase Diagram analysis object\n",
    "\n",
    "    # Get the features for various proportions Using the get_hull_energy method;\n",
    "    # (Need to add documentation)\n",
    "    for i in range(0,len(p)):\n",
    "        temp_data = {}\n",
    "        prop_a = p[i]\n",
    "        prop_b = p[-(i+1)]\n",
    "        a = Element(d[0])\n",
    "        b = Element(d[1])\n",
    "        try :\n",
    "            temp_data['system'] = d[0]+'-'+d[1]\n",
    "            temp_data['A'] = d[0]\n",
    "            temp_data['B'] = d[1]\n",
    "            temp_data[d[0]+'_prop'] = prop_a\n",
    "            temp_data[d[1]+'_prop'] = prop_b\n",
    "            temp_data['formation_energy'] = pd_analyse.get_hull_energy(Composition.from_dict({d[0]: prop_a, d[1] : prop_b}))\n",
    "\n",
    "            # Element Property extraction\n",
    "\n",
    "            temp_data['avg_atomic_mass'] = prop_a*a.atomic_mass + prop_b*b.atomic_mass\n",
    "            temp_data['avg_row'] = prop_a*a.row + prop_b*b.row\n",
    "            temp_data['max_z_diff'] = abs (a.Z - b.Z) # Max Difference in atomic number\n",
    "            temp_data['avg_z'] = prop_a*a.Z + prop_b*b.Z\n",
    "            temp_data['max_radius_diff'] = abs (a.atomic_radius - b.atomic_radius) # Max Difference in atomic radius\n",
    "            temp_data['avg_radius'] = prop_a*a.atomic_radius + prop_b*b.atomic_radius\n",
    "            temp_data['max_en_diff'] = abs (a.X - b.X) # Max Difference in electronegativity\n",
    "            temp_data['avg_en'] = prop_a*a.X + prop_b*b.X # Avg Difference in electronegativity\n",
    "            return_data.append(temp_data)\n",
    "        except TypeError:\n",
    "            pass\n",
    "    return return_data"
   ]
  },
  {
   "cell_type": "code",
   "execution_count": 18,
   "metadata": {
    "collapsed": false
   },
   "outputs": [
    {
     "name": "stdout",
     "output_type": "stream",
     "text": [
      "Exception reporting mode: Plain\n",
      "Doctest mode is: ON\n",
      "CPU times: user 2 µs, sys: 1e+03 ns, total: 3 µs\n",
      "Wall time: 5.96 µs\n"
     ]
    },
    {
     "ename": "KeyboardInterrupt",
     "evalue": "",
     "output_type": "error",
     "traceback": [
      "Traceback \u001b[0;36m(most recent call last)\u001b[0m:\n",
      "  File \u001b[1;32m\"<ipython-input-18-a7b236e0de3e>\"\u001b[0m, line \u001b[1;32m13\u001b[0m, in \u001b[1;35m<module>\u001b[0m\n    master = master.append(temp)\n",
      "  File \u001b[1;32m\"/Users/avinana/anaconda/lib/python2.7/site-packages/pandas/core/frame.py\"\u001b[0m, line \u001b[1;32m3820\u001b[0m, in \u001b[1;35mappend\u001b[0m\n    verify_integrity=verify_integrity)\n",
      "  File \u001b[1;32m\"/Users/avinana/anaconda/lib/python2.7/site-packages/pandas/tools/merge.py\"\u001b[0m, line \u001b[1;32m725\u001b[0m, in \u001b[1;35mconcat\u001b[0m\n    return op.get_result()\n",
      "  File \u001b[1;32m\"/Users/avinana/anaconda/lib/python2.7/site-packages/pandas/tools/merge.py\"\u001b[0m, line \u001b[1;32m896\u001b[0m, in \u001b[1;35mget_result\u001b[0m\n    mgrs_indexers, self.new_axes, concat_axis=self.axis, copy=self.copy)\n",
      "  File \u001b[1;32m\"/Users/avinana/anaconda/lib/python2.7/site-packages/pandas/core/internals.py\"\u001b[0m, line \u001b[1;32m4046\u001b[0m, in \u001b[1;35mconcatenate_block_managers\u001b[0m\n    for placement, join_units in concat_plan]\n",
      "  File \u001b[1;32m\"/Users/avinana/anaconda/lib/python2.7/site-packages/pandas/core/internals.py\"\u001b[0m, line \u001b[1;32m4139\u001b[0m, in \u001b[1;35mconcatenate_join_units\u001b[0m\n    for ju in join_units]\n",
      "\u001b[0;36m  File \u001b[0;32m\"/Users/avinana/anaconda/lib/python2.7/site-packages/pandas/core/internals.py\"\u001b[0;36m, line \u001b[0;32m4378\u001b[0;36m, in \u001b[0;35mget_reindexed_values\u001b[0;36m\u001b[0m\n\u001b[0;31m    def get_reindexed_values(self, empty_dtype, upcasted_na):\u001b[0m\n",
      "\u001b[0;31mKeyboardInterrupt\u001b[0m\n"
     ]
    }
   ],
   "source": [
    "%doctest_mode\n",
    "%time\n",
    "\n",
    "\n",
    "\n",
    "import pandas as pd\n",
    "\n",
    "master = pd.DataFrame()\n",
    "\n",
    "for i,item in enumerate(binary_sys, 1):\n",
    "    item = item.encode('ascii')\n",
    "    temp = pd.DataFrame(material_load(item))\n",
    "    master = master.append(temp)\n",
    "    \n"
   ]
  },
  {
   "cell_type": "code",
   "execution_count": 13,
   "metadata": {
    "collapsed": false
   },
   "outputs": [],
   "source": [
    "master.to_csv('data_binary.csv')"
   ]
  },
  {
   "cell_type": "code",
   "execution_count": null,
   "metadata": {
    "collapsed": true
   },
   "outputs": [],
   "source": [
    "## Scratch work \n",
    "%doctest_mode \n",
    "k = Element('Fe')\n",
    "k.common_oxidation_states\n",
    "entry = mp.get_entries_in_chemsys(['Ag','As'])\n",
    "pd = PhaseDiagram(entry)\n",
    "pd_analyse = PDAnalyzer(pd)\n",
    "pd_analyse.get_hull_energy(Composition.from_dict({'Ag': 0.02, 'As': 0.98}))\n",
    "binary_sys[10]\n",
    "Composition.from_dict({'Fe': 0.02, 'O': 0.98})\n",
    "i = 1\n",
    "prop()[-i]"
   ]
  },
  {
   "cell_type": "code",
   "execution_count": null,
   "metadata": {
    "collapsed": false
   },
   "outputs": [],
   "source": [
    "def material_load_ternary(d, sep='-'):\n",
    "    return_data = []\n",
    "     \n",
    "    d = d.split('-')\n",
    "    \n",
    "    if len(d) > 2: # Check For ternary Systems\n",
    "        entry = mp.get_entries_in_chemsys([d[0],d[1],d[2]]) # gets the entries of the chemical system\n",
    "        pd = PhaseDiagram(entry) # creates a phasediagram object\n",
    "        pd_analyse = PDAnalyzer(pd) # creates a phase Diagram analysis object\n",
    "        \n",
    "        \n",
    "        \n",
    "    else :  \n",
    "        # Create a phase diagram object for the following system:\n",
    "        entry = mp.get_entries_in_chemsys([d[0],d[1]]) # gets the entries of the chemical system\n",
    "        pd = PhaseDiagram(entry) # creates a phasediagram object\n",
    "        pd_analyse = PDAnalyzer(pd) # creates a phase Diagram analysis object\n",
    "\n",
    "        # Get the features for various proportions Using the get_hull_energy method;\n",
    "        # (Need to add documentation)\n",
    "        for i in range(0,len(p)):\n",
    "            temp_data = {}\n",
    "            prop_a = p[i]\n",
    "            prop_b = p[-(i+1)]\n",
    "            a = Element(d[0])\n",
    "            b = Element(d[1])\n",
    "            try :\n",
    "                temp_data['system'] = d[0]+'-'+d[1]\n",
    "                temp_data['A'] = d[0]\n",
    "                temp_data['B'] = d[1]\n",
    "                temp_data[d[0]+'_prop'] = prop_a\n",
    "                temp_data[d[1]+'_prop'] = prop_b\n",
    "                temp_data['formation_energy'] = pd_analyse.get_hull_energy(Composition.from_dict({d[0]: prop_a, d[1] : prop_b}))\n",
    "\n",
    "                # Element Property extraction\n",
    "\n",
    "                temp_data['avg_atomic_mass'] = prop_a*a.atomic_mass + prop_b*b.atomic_mass\n",
    "                temp_data['avg_row'] = prop_a*a.row + prop_b*b.row\n",
    "                temp_data['max_z_diff'] = abs (a.Z - b.Z) # Max Difference in atomic number\n",
    "                temp_data['avg_z'] = prop_a*a.Z + prop_b*b.Z\n",
    "                temp_data['max_radius_diff'] = abs (a.atomic_radius - b.atomic_radius) # Max Difference in atomic radius\n",
    "                temp_data['avg_radius'] = prop_a*a.atomic_radius + prop_b*b.atomic_radius\n",
    "                temp_data['max_en_diff'] = abs (a.X - b.X) # Max Difference in electronegativity\n",
    "                temp_data['avg_en'] = prop_a*a.X + prop_b*b.X # Avg Difference in electronegativity\n",
    "                return_data.append(temp_data)\n",
    "            except TypeError:\n",
    "                pass\n",
    "    return return_data"
   ]
  },
  {
   "cell_type": "code",
   "execution_count": 20,
   "metadata": {
    "collapsed": false
   },
   "outputs": [
    {
     "data": {
      "text/plain": [
       "[{u'icsd_ids': [], u'energy': -36.97250668, u'unit_cell_formula': {u'Ac': 1.0, u'Fe': 1.0, u'O': 3.0}, u'oxide_type': u'oxide', u'hubbards': {u'Ac': 0.0, u'Fe': 5.3, u'O': 0.0}, u'task_ids': [u'mp-864241', u'mp-865551', u'mp-866233', u'mp-866366'], u'band_gap': 0.9887999999999995, u'e_above_hull': 0, u'nsites': 5, u'icsd_id': [], u'elements': [u'Ac', u'Fe', u'O'], u'tags': None, u'pretty_formula': u'AcFeO3', u'volume': 64.69142099382053, u'total_magnetization': 5.0000009, u'is_hubbard': True, u'formation_energy_per_atom': -2.88781133025, u'cif': u\"#\\\\#CIF1.1\\n##########################################################################\\n#               Crystallographic Information Format file \\n#               Produced by PyCifRW module\\n# \\n#  This is a CIF file.  CIF has been adopted by the International\\n#  Union of Crystallography as the standard for data archiving and \\n#  transmission.\\n#\\n#  For information on this file format, follow the CIF links at\\n#  http://www.iucr.org\\n##########################################################################\\n\\ndata_AcFeO3\\n_symmetry_space_group_name_H-M          'P 1'\\n_cell_length_a                          4.01435315\\n_cell_length_b                          4.01434801\\n_cell_length_c                          4.01435796\\n_cell_angle_alpha                       90.0000810691\\n_cell_angle_beta                        89.9999931491\\n_cell_angle_gamma                       89.9999885818\\n_chemical_name_systematic               'Generated by pymatgen'\\n_symmetry_Int_Tables_number             1\\n_chemical_formula_structural            AcFeO3\\n_chemical_formula_sum                   'Ac1 Fe1 O3'\\n_cell_volume                            64.6914209938\\n_cell_formula_units_Z                   1\\nloop_\\n  _symmetry_equiv_pos_site_id\\n  _symmetry_equiv_pos_as_xyz\\n   1  'x, y, z'\\n \\nloop_\\n  _atom_site_type_symbol\\n  _atom_site_label\\n  _atom_site_symmetry_multiplicity\\n  _atom_site_fract_x\\n  _atom_site_fract_y\\n  _atom_site_fract_z\\n  _atom_site_attached_hydrogens\\n  _atom_site_B_iso_or_equiv\\n  _atom_site_occupancy\\n   Ac  Ac1  1  1.000000  0.000000  1.000000  0  .  1\\n   Fe  Fe2  1  0.499999  0.499997  0.499999  0  .  1\\n   O  O3  1  0.499998  0.499999  0.999999  0  .  1\\n   O  O4  1  0.499998  1.000000  0.499998  0  .  1\\n   O  O5  1  0.999999  0.499999  0.499998  0  .  1\\n \\n\", u'nelements': 3, u'density': 8.492285405211069, u'is_compatible': True, u'material_id': u'mp-864241', u'energy_per_atom': -7.394501336, u'spacegroup': {u'symbol': u'Pm-3m', u'number': 221, u'point_group': u'm-3m', u'source': u'spglib', u'crystal_system': u'cubic', u'hall': u'-P 4 2 3'}, u'full_formula': u'Ac1Fe1O3'}]"
      ]
     },
     "execution_count": 20,
     "metadata": {},
     "output_type": "execute_result"
    }
   ],
   "source": [
    "mp.get_data('Fe-O-Ac')"
   ]
  },
  {
   "cell_type": "code",
   "execution_count": 16,
   "metadata": {
    "collapsed": false
   },
   "outputs": [
    {
     "data": {
      "text/plain": [
       "[Structure Summary\n",
       "Lattice\n",
       "    abc : 4.0143531500000273 4.0143480100010169 4.0143579600010177\n",
       " angles : 90.000081069110308 89.999993149097477 89.999988581811039\n",
       " volume : 64.691420993820529\n",
       "      A : 4.0143531499999998 3.9999999999999998e-07 2.4999999999999999e-07\n",
       "      B : 3.9999999999999998e-07 4.01434801 -2.83e-06\n",
       "      C : 2.2999999999999999e-07 -2.8499999999999998e-06 4.0143579599999999\n",
       "PeriodicSite: Ac (4.0144, -0.0000, 4.0144) [1.0000, 0.0000, 1.0000]\n",
       "PeriodicSite: Fe (2.0072, 2.0072, 2.0072) [0.5000, 0.5000, 0.5000]\n",
       "PeriodicSite: O (2.0072, 2.0072, 4.0144) [0.5000, 0.5000, 1.0000]\n",
       "PeriodicSite: O (2.0072, 4.0143, 2.0072) [0.5000, 1.0000, 0.5000]\n",
       "PeriodicSite: O (4.0143, 2.0072, 2.0072) [1.0000, 0.5000, 0.5000]]"
      ]
     },
     "execution_count": 16,
     "metadata": {},
     "output_type": "execute_result"
    }
   ],
   "source": [
    "mp.get_structures('Fe-O-Ac')"
   ]
  },
  {
   "cell_type": "code",
   "execution_count": 5,
   "metadata": {
    "collapsed": true
   },
   "outputs": [],
   "source": [
    "data = mp.query(criteria={}, properties=[\"task_id\"])"
   ]
  },
  {
   "cell_type": "code",
   "execution_count": null,
   "metadata": {
    "collapsed": true
   },
   "outputs": [],
   "source": [
    " "
   ]
  },
  {
   "cell_type": "code",
   "execution_count": null,
   "metadata": {
    "collapsed": true
   },
   "outputs": [],
   "source": []
  }
 ],
 "metadata": {
  "kernelspec": {
   "display_name": "Python 2",
   "language": "python",
   "name": "python2"
  },
  "language_info": {
   "codemirror_mode": {
    "name": "ipython",
    "version": 2
   },
   "file_extension": ".py",
   "mimetype": "text/x-python",
   "name": "python",
   "nbconvert_exporter": "python",
   "pygments_lexer": "ipython2",
   "version": "2.7.10"
  }
 },
 "nbformat": 4,
 "nbformat_minor": 0
}
