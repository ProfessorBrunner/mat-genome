{
 "cells": [
  {
   "cell_type": "markdown",
   "metadata": {},
   "source": [
    "## Matgen based qmdb & pymatgen\n",
    "\n",
    "The Following Gives the code to assimilate and clean data for the Wolverton Paper. "
   ]
  },
  {
   "cell_type": "markdown",
   "metadata": {
    "collapsed": true
   },
   "source": [
    "Import All libraries"
   ]
  },
  {
   "cell_type": "code",
   "execution_count": 209,
   "metadata": {
    "collapsed": false
   },
   "outputs": [],
   "source": [
    "import requests\n",
    "import json\n",
    "import numpy as np\n",
    "import itertools\n",
    "import pandas as pd\n",
    "\n",
    "from pymatgen.phasediagram.pdanalyzer import PDAnalyzer\n",
    "from pymatgen.matproj.rest import MPRester \n",
    "from pymatgen.phasediagram.pdmaker import PhaseDiagram\n",
    "from pymatgen.core.periodic_table import Element\n",
    "from pymatgen.core.composition import Composition\n",
    "\n",
    "\n",
    "API_key = 'NrBIvm9wt7Hq1fSD' # Get API key from https://materialsproject.org/open\n",
    "mp = MPRester(API_key)\n",
    "\n",
    "\n",
    "elements = pd.read_table('elements.txt', delimiter=\"\\t\") # elements data\n",
    "elements.index = elements.symbol # Convert the index as the elements symbols \n",
    "formation_energies = pd.read_table('formation_energies.txt', delimiter=\"\\t\")    # formation energy data \n",
    " \n",
    "# Create a List of proportions for the binary system\n",
    "\n",
    "prop = np.arange(0.05,1,0.05);\n",
    "p = np.around(prop,decimals=2);\n",
    "prop = prop.tolist()"
   ]
  },
  {
   "cell_type": "code",
   "execution_count": null,
   "metadata": {
    "collapsed": true
   },
   "outputs": [],
   "source": []
  },
  {
   "cell_type": "code",
   "execution_count": 213,
   "metadata": {
    "collapsed": false
   },
   "outputs": [
    {
     "data": {
      "text/plain": [
       "6216"
      ]
     },
     "execution_count": 213,
     "metadata": {},
     "output_type": "execute_result"
    }
   ],
   "source": [
    "# List of a Binary systems possible in the periodic table\n",
    "\n",
    "binary_sys = []\n",
    "element_list = list(elements.symbol)\n",
    "for subset in itertools.combinations(element_list,2):\n",
    "     binary_sys.append(subset[0]+'-'+subset[1])\n",
    "binary_sys = sorted (binary_sys)    \n",
    "len(binary_sys)  #6216 systems; 112 C 2 combination of 112 known elements"
   ]
  },
  {
   "cell_type": "code",
   "execution_count": 215,
   "metadata": {
    "collapsed": false
   },
   "outputs": [],
   "source": [
    "'''\n",
    "The Following Function takes in a binary system Eg: 'Li-Fe' in the \n",
    "same format as shown and returns a list of dictionaries; each giving \n",
    "specific properties of the system and various proportions defined by the \n",
    "list 'prop'. The returned variable is a List of Dicts.\n",
    "'''\n",
    "def material_load_binary(d, sep='-', p = prop):\n",
    "    return_data = []\n",
    "     \n",
    "    d = d.split(sep)\n",
    "    \n",
    "    # Create a phase diagram object for the following system:\n",
    "    entry = mp.get_entries_in_chemsys([d[0],d[1]]) # gets the entries of the chemical system\n",
    "    pd = PhaseDiagram(entry) # creates a phasediagram object\n",
    "    pd_analyse = PDAnalyzer(pd) # creates a phase Diagram analysis object\n",
    "\n",
    "    # Get the features for various proportions Using the get_hull_energy method;\n",
    "    # (Need to add documentation)\n",
    "    for i in range(0,len(p)):\n",
    "        temp_data = {}\n",
    "        prop_a = p[i]\n",
    "        prop_b = p[-(i+1)]\n",
    "        try :\n",
    "            temp_data['system'] = d[0]+'-'+d[1]\n",
    "            temp_data['A'] = d[0]\n",
    "            temp_data['B'] = d[1]\n",
    "            temp_data[d[0]+'_prop'] = prop_a\n",
    "            temp_data[d[1]+'_prop'] = prop_b\n",
    "            temp_data['formation_energy'] = pd_analyse.get_hull_energy(Composition.from_dict({d[0]: prop_a, d[1] : prop_b}))\n",
    "\n",
    "            # Element Property extraction\n",
    "\n",
    "            temp_data['avg_atomic_mass'] = prop_a*elements.loc[d[0]].mass + prop_b*elements.loc[d[1]].mass\n",
    "            temp_data['avg_row'] = prop_a*elements.loc[d[0]].period + prop_b*elements.loc[d[1]].period\n",
    "            temp_data['avg_col'] = prop_a*elements.loc[d[0]].group + prop_b*elements.loc[d[1]].group\n",
    "            temp_data['max_z_diff'] = abs (elements.loc[d[0]].z - elements.loc[d[1]].z) # Max Difference in atomic number\n",
    "            temp_data['avg_z'] = prop_a*elements.loc[d[0]].z + prop_b*elements.loc[d[1]].z\n",
    "            temp_data['max_radius_diff'] = abs (elements.loc[d[0]].atomic_radii - elements.loc[d[1]].atomic_radii) # Max Difference in atomic radius\n",
    "            temp_data['avg_radius'] = prop_a*elements.loc[d[0]].atomic_radii + prop_b*elements.loc[d[1]].atomic_radii\n",
    "            temp_data['max_en_diff'] = abs (elements.loc[d[0]].electronegativity - elements.loc[d[1]].electronegativity) # Max Difference in electronegativity\n",
    "            temp_data['avg_en'] = prop_a*elements.loc[d[0]].electronegativity + prop_b*elements.loc[d[1]].electronegativity # Avg Difference in electronegativity\n",
    "            temp_data['avg_s_elec'] = prop_a*elements.loc[d[0]].s_elec +prop_b* elements.loc[d[1]].s_elec\n",
    "            temp_data['avg_p_elec'] = prop_a*elements.loc[d[0]].p_elec +prop_b* elements.loc[d[1]].p_elec\n",
    "            temp_data['avg_d_elec'] = prop_a*elements.loc[d[0]].d_elec +prop_b* elements.loc[d[1]].d_elec\n",
    "            temp_data['avg_f_elec'] = prop_a*elements.loc[d[0]].f_elec +prop_b* elements.loc[d[1]].f_elec\n",
    "            \n",
    "            temp_sum = temp_data['avg_s_elec']+temp_data['avg_p_elec']+temp_data['avg_d_elec']+temp_data['avg_f_elec']\n",
    "            \n",
    "            temp_data['prop_s_elec'] = temp_data['avg_s_elec']/temp_sum\n",
    "            temp_data['prop_p_elec'] = temp_data['avg_p_elec']/temp_sum\n",
    "            temp_data['prop_d_elec'] = temp_data['avg_d_elec']/temp_sum\n",
    "            temp_data['prop_f_elec'] = temp_data['avg_f_elec']/temp_sum\n",
    "            \n",
    "            \n",
    "            return_data.append(temp_data)\n",
    "        except TypeError:\n",
    "            pass\n",
    "    return return_data"
   ]
  },
  {
   "cell_type": "code",
   "execution_count": null,
   "metadata": {
    "collapsed": true
   },
   "outputs": [],
   "source": [
    "'''\n",
    "The Following Create a 'master' dataframe (Called so as later the \n",
    "dataframe of ternary systems will be appended to this ). The \n",
    "'''\n",
    "\n",
    "master = pd.DataFrame()\n",
    "\n",
    "for i,item in enumerate(binary_sys, 1):\n",
    "    item = item.encode('ascii')\n",
    "    temp = pd.DataFrame(material_load(item))\n",
    "    master = master.append(temp)\n",
    "master.head()  "
   ]
  },
  {
   "cell_type": "code",
   "execution_count": 114,
   "metadata": {
    "collapsed": false
   },
   "outputs": [
    {
     "data": {
      "text/html": [
       "<div style=\"max-height:1000px;max-width:1500px;overflow:auto;\">\n",
       "<table border=\"1\" class=\"dataframe\">\n",
       "  <thead>\n",
       "    <tr style=\"text-align: right;\">\n",
       "      <th></th>\n",
       "      <th>composition_id</th>\n",
       "      <th>stability</th>\n",
       "      <th>delta_e</th>\n",
       "    </tr>\n",
       "  </thead>\n",
       "  <tbody>\n",
       "    <tr>\n",
       "      <th>1057</th>\n",
       "      <td>  Li1 N1 Zn1</td>\n",
       "      <td>-0.091413</td>\n",
       "      <td>-0.346888</td>\n",
       "    </tr>\n",
       "    <tr>\n",
       "      <th>1076</th>\n",
       "      <td> Bi1 Ho1 Pt1</td>\n",
       "      <td>-0.178451</td>\n",
       "      <td>-1.046258</td>\n",
       "    </tr>\n",
       "    <tr>\n",
       "      <th>1088</th>\n",
       "      <td> Bi1 Gd1 Pt1</td>\n",
       "      <td>-0.197731</td>\n",
       "      <td>-1.052662</td>\n",
       "    </tr>\n",
       "    <tr>\n",
       "      <th>1091</th>\n",
       "      <td> As1 Li1 Mg1</td>\n",
       "      <td>-0.093365</td>\n",
       "      <td>-0.755614</td>\n",
       "    </tr>\n",
       "    <tr>\n",
       "      <th>1092</th>\n",
       "      <td> Pd1 Sb1 Sc1</td>\n",
       "      <td>-0.180729</td>\n",
       "      <td>-1.047253</td>\n",
       "    </tr>\n",
       "  </tbody>\n",
       "</table>\n",
       "</div>"
      ],
      "text/plain": [
       "     composition_id  stability   delta_e\n",
       "1057     Li1 N1 Zn1  -0.091413 -0.346888\n",
       "1076    Bi1 Ho1 Pt1  -0.178451 -1.046258\n",
       "1088    Bi1 Gd1 Pt1  -0.197731 -1.052662\n",
       "1091    As1 Li1 Mg1  -0.093365 -0.755614\n",
       "1092    Pd1 Sb1 Sc1  -0.180729 -1.047253"
      ]
     },
     "execution_count": 114,
     "metadata": {},
     "output_type": "execute_result"
    }
   ],
   "source": [
    "# Check For ternary systems\n",
    "# The following check for all Stable (stability <=0) and ternary \n",
    "# systems in the formation_energies table\n",
    "\n",
    "is_ternary = formation_energies['composition_id'].str.split().apply(len) == 3\n",
    "is_stable = formation_energies['stability'] <= 0\n",
    "\n",
    "ternary_systems = formation_energies[is_stable & is_ternary]\n",
    "ternary_systems = ternary_systems[['composition_id','stability','delta_e']]\n",
    "\n",
    "ternary_systems.head()"
   ]
  },
  {
   "cell_type": "code",
   "execution_count": 115,
   "metadata": {
    "collapsed": false
   },
   "outputs": [],
   "source": [
    "# the Function splits the above composition_id into \n",
    "# a list of 3 tuples.  Eg:\n",
    "#     split_systems('Li1 N1 Zn1')\n",
    "# >>> [('Li', '1'), ('N', '1'), ('Zn', '1')]\n",
    "\n",
    "import re\n",
    "def split_systems(sys):\n",
    "    ret_list = []\n",
    "    s = sys.split() \n",
    "    r = re.compile(\"([a-zA-Z]+)([0-9]+)\")\n",
    "    return [r.match(string).groups() for string in s]"
   ]
  },
  {
   "cell_type": "code",
   "execution_count": 193,
   "metadata": {
    "collapsed": false
   },
   "outputs": [],
   "source": [
    "'''\n",
    "The following function takes in a composition_id and returns a\n",
    "pd.Series of all attributes.\n",
    "'''\n",
    "\n",
    "from __future__ import division\n",
    "def mutate_ts(index,x):\n",
    "    d = split_systems(x)\n",
    "    ts = pd.Series()\n",
    "    ts['index'] = index\n",
    "    ts['system'] = d[0][0]+'-'+d[1][0]+'-'+d[2][0]\n",
    "    ts['A'] = d[0][0]\n",
    "    ts['B'] = d[1][0]\n",
    "    ts['C'] = d[2][0]\n",
    "\n",
    "    sum_prop = int(d[0][1])+int(d[1][1])+int(d[2][1])\n",
    "    prop_a = int(d[0][1])/sum_prop\n",
    "    prop_b = int(d[1][1])/sum_prop\n",
    "    prop_c = int(d[2][1])/sum_prop\n",
    "\n",
    "    ts[d[0][0]+'_prop'] = prop_a\n",
    "    ts[d[1][0]+'_prop'] = prop_b\n",
    "    ts[d[2][0]+'_prop'] = prop_c\n",
    "\n",
    "    # Element Property extraction\n",
    "\n",
    "    ts['avg_atomic_mass'] = prop_a*elements.loc[d[0][0]].mass + prop_b*elements.loc[d[1][0]].mass + prop_c*elements.loc[d[2][0]].mass\n",
    "    ts['avg_row'] = prop_a*elements.loc[d[0][0]].period + prop_b*elements.loc[d[1][0]].period + prop_c*elements.loc[d[2][0]].period\n",
    "    ts['avg_col'] = prop_a*elements.loc[d[0][0]].group + prop_b*elements.loc[d[1][0]].group + prop_c*elements.loc[d[2][0]].group\n",
    "    ts['max_z_diff'] = abs (max(elements.loc[d[0][0]].z,elements.loc[d[1][0]].z,elements.loc[d[2][0]].z)\n",
    "                                -min(elements.loc[d[0][0]].z,elements.loc[d[1][0]].z,elements.loc[d[2][0]].z)) # Max Difference in atomic number\n",
    "    ts['avg_z'] = prop_a*elements.loc[d[0][0]].z + prop_b*elements.loc[d[1][0]].z +prop_c*elements.loc[d[2][0]].z\n",
    "    ts['max_radius_diff'] = abs (max(elements.loc[d[0][0]].atomic_radii,elements.loc[d[1][0]].atomic_radii,elements.loc[d[2][0]].atomic_radii)\n",
    "                                     -min(elements.loc[d[0][0]].atomic_radii,elements.loc[d[1][0]].atomic_radii,elements.loc[d[2][0]].atomic_radii)) # Max Difference in atomic radius\n",
    "    ts['avg_radius'] = prop_a*elements.loc[d[0][0]].atomic_radii + prop_b*elements.loc[d[1][0]].atomic_radii + prop_c*elements.loc[d[2][0]].atomic_radii\n",
    "    ts['max_en_diff'] = abs (max(elements.loc[d[0][0]].electronegativity,elements.loc[d[1][0]].electronegativity,elements.loc[d[2][0]].electronegativity)\n",
    "                                 -min(elements.loc[d[0][0]].electronegativity,elements.loc[d[1][0]].electronegativity,elements.loc[d[2][0]].electronegativity)) # Max Difference in atomic electronegativity\n",
    "    ts['avg_en'] = prop_a*elements.loc[d[0][0]].electronegativity + prop_b*elements.loc[d[1][0]].electronegativity + prop_c*elements.loc[d[2][0]].electronegativity # Avg Difference in electronegativity\n",
    "    ts['avg_s_elec'] = prop_a*elements.loc[d[0][0]].s_elec +prop_b* elements.loc[d[1][0]].s_elec + prop_c* elements.loc[d[2][0]].s_elec\n",
    "    ts['avg_p_elec'] = prop_a*elements.loc[d[0][0]].p_elec +prop_b* elements.loc[d[1][0]].p_elec + prop_c* elements.loc[d[2][0]].p_elec\n",
    "    ts['avg_d_elec'] = prop_a*elements.loc[d[0][0]].d_elec +prop_b* elements.loc[d[1][0]].d_elec + prop_c* elements.loc[d[2][0]].d_elec\n",
    "    ts['avg_f_elec'] = prop_a*elements.loc[d[0][0]].f_elec +prop_b* elements.loc[d[1][0]].f_elec + prop_c* elements.loc[d[2][0]].f_elec\n",
    "\n",
    "    temp_sum = ts['avg_s_elec']+ts['avg_p_elec']+ts['avg_d_elec']+ts['avg_f_elec']\n",
    "\n",
    "    ts['prop_s_elec'] = ts['avg_s_elec']/temp_sum\n",
    "    ts['prop_p_elec'] = ts['avg_p_elec']/temp_sum\n",
    "    ts['prop_d_elec'] = ts['avg_d_elec']/temp_sum\n",
    "    ts['prop_f_elec'] = ts['avg_f_elec']/temp_sum\n",
    "\n",
    "    return ts\n"
   ]
  },
  {
   "cell_type": "code",
   "execution_count": 194,
   "metadata": {
    "collapsed": false
   },
   "outputs": [],
   "source": [
    "# the following chuck of code takes all entries from the\n",
    "# ternary_systems['composition_id] table and gives a \n",
    "# new table with all the features\n",
    "\n",
    "tern_data = pd.DataFrame()\n",
    "for index,row in ternary_systems.iterrows():\n",
    "    temp = mutate_ts(index,row['composition_id'])\n",
    "    tern_data = tern_data.append(temp,ignore_index= True)\n"
   ]
  },
  {
   "cell_type": "code",
   "execution_count": 202,
   "metadata": {
    "collapsed": false
   },
   "outputs": [
    {
     "data": {
      "text/plain": [
       "(12114, 108)"
      ]
     },
     "execution_count": 202,
     "metadata": {},
     "output_type": "execute_result"
    }
   ],
   "source": [
    "tern_data.shape"
   ]
  },
  {
   "cell_type": "code",
   "execution_count": 216,
   "metadata": {
    "collapsed": false
   },
   "outputs": [
    {
     "data": {
      "text/plain": [
       "[('Li', '1'), ('N', '1'), ('Zn', '1')]"
      ]
     },
     "execution_count": 216,
     "metadata": {},
     "output_type": "execute_result"
    }
   ],
   "source": [
    "split_systems('Li1 N1 Zn1')"
   ]
  },
  {
   "cell_type": "code",
   "execution_count": null,
   "metadata": {
    "collapsed": true
   },
   "outputs": [],
   "source": []
  }
 ],
 "metadata": {
  "kernelspec": {
   "display_name": "Python 2",
   "language": "python",
   "name": "python2"
  },
  "language_info": {
   "codemirror_mode": {
    "name": "ipython",
    "version": 2
   },
   "file_extension": ".py",
   "mimetype": "text/x-python",
   "name": "python",
   "nbconvert_exporter": "python",
   "pygments_lexer": "ipython2",
   "version": "2.7.10"
  }
 },
 "nbformat": 4,
 "nbformat_minor": 0
}
