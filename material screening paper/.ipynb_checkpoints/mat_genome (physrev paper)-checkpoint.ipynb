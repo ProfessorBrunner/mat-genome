{
 "cells": [
  {
   "cell_type": "code",
   "execution_count": 1,
   "metadata": {
    "collapsed": false
   },
   "outputs": [],
   "source": [
    "import requests\n",
    "import json\n",
    "import numpy as np\n",
    "import itertools\n",
    "\n",
    "from pymatgen.phasediagram.pdanalyzer import PDAnalyzer\n",
    "from pymatgen.matproj.rest import MPRester \n",
    "from pymatgen.phasediagram.pdmaker import PhaseDiagram\n",
    "from pymatgen.core.periodic_table import Element\n",
    "from pymatgen.core.composition import Composition\n",
    "\n",
    "\n",
    "API_key = 'KSHpuwLlQO8scf94' # Get API key from https://materialsproject.org/open\n",
    "mp = MPRester(API_key)\n"
   ]
  },
  {
   "cell_type": "code",
   "execution_count": 2,
   "metadata": {
    "collapsed": false
   },
   "outputs": [
    {
     "data": {
      "text/plain": [
       "8573"
      ]
     },
     "execution_count": 2,
     "metadata": {},
     "output_type": "execute_result"
    }
   ],
   "source": [
    "### Get all stable Ternary systems in the database\n",
    "\n",
    "data = {\n",
    "    'criteria': {\"nelements\" : 3,\"e_above_hull\" :0}, # 0 energy above hull (stability measure)\n",
    "    'properties': ['chemsys']\n",
    "}\n",
    "r = requests.post('https://materialsproject.org/rest/v2/query',\n",
    "                 headers={'X-API-KEY': API_key},\n",
    "                 data={k: json.dumps(v) for k,v in data.iteritems()})\n",
    "response = r.json() # a dict of all stable ternary systems (need to check for duplicates)\n",
    "\n",
    "ternary_sys = []\n",
    "for e in response['response']:\n",
    "    ternary_sys.append(e['chemsys'].split('-'))\n",
    "# remove duplicates\n",
    "ternary_sys.sort()\n",
    "ternary_sys = list(ternary_sys for ternary_sys,_ in itertools.groupby(ternary_sys)) \n",
    "\n",
    "for i in range(0,len(ternary_sys)):\n",
    "    ternary_sys[i] = '-'.join(ternary_sys[i])\n",
    "len(ternary_sys)"
   ]
  },
  {
   "cell_type": "code",
   "execution_count": 3,
   "metadata": {
    "collapsed": false
   },
   "outputs": [
    {
     "data": {
      "text/plain": [
       "3916"
      ]
     },
     "execution_count": 3,
     "metadata": {},
     "output_type": "execute_result"
    }
   ],
   "source": [
    "# Dict of all Binary systems\n",
    "data = {\n",
    "    'criteria': {\"nelements\" : 1},\n",
    "    'properties': ['elements']\n",
    "}\n",
    "r = requests.post('https://materialsproject.org/rest/v2/query',\n",
    "                 headers={'X-API-KEY': API_key},\n",
    "                 data={k: json.dumps(v) for k,v in data.iteritems()})\n",
    "elements = r.json()\n",
    "\n",
    "# Create a list of all binary systems.\n",
    "import itertools\n",
    "element_list = []\n",
    "binary_sys = []\n",
    "for i in range(0 , len (elements['response'])):\n",
    "    element_list.append(elements['response'][i]['elements'][0])\n",
    "element_list = list(set(element_list))\n",
    "for subset in itertools.combinations(element_list,2):\n",
    "     binary_sys.append(subset[0]+'-'+subset[1])\n",
    "binary_sys = sorted (binary_sys)    \n",
    "len(binary_sys) # 3916 systems; combination of 89 known elements"
   ]
  },
  {
   "cell_type": "code",
   "execution_count": 4,
   "metadata": {
    "collapsed": false
   },
   "outputs": [],
   "source": [
    "def prop():\n",
    "    p = np.arange(0.05,1,0.05)\n",
    "    p = np.around(p,decimals=2)\n",
    "    p = p.tolist()\n",
    "    return p"
   ]
  },
  {
   "cell_type": "code",
   "execution_count": null,
   "metadata": {
    "collapsed": false
   },
   "outputs": [],
   "source": [
    "%docte\n",
    "def material_load(d, sep='-', p = prop()):\n",
    "    return_data = []\n",
    "     \n",
    "    d = d.split('-')\n",
    "    \n",
    "    # Create a phase diagram object for the following system:\n",
    "    entry = mp.get_entries_in_chemsys([d[0],d[1]]) # gets the entries of the chemical system\n",
    "    pd = PhaseDiagram(entry) # creates a phasediagram object\n",
    "    pd_analyse = PDAnalyzer(pd) # creates a phase Diagram analysis object\n",
    "\n",
    "    # Get the features for various proportions Using the get_hull_energy method;\n",
    "    # (Need to add documentation)\n",
    "    for i in range(0,len(p)):\n",
    "        temp_data = {}\n",
    "        prop_a = p[i]\n",
    "        prop_b = p[-(i+1)]\n",
    "        a = Element(d[0])\n",
    "        b = Element(d[1])\n",
    "        try :\n",
    "            temp_data['system'] = d[0]+'-'+d[1]\n",
    "            temp_data['A'] = d[0]\n",
    "            temp_data['B'] = d[1]\n",
    "            temp_data[d[0]+'_prop'] = prop_a\n",
    "            temp_data[d[1]+'_prop'] = prop_b\n",
    "            temp_data['formation_energy'] = pd_analyse.get_hull_energy(Composition.from_dict({d[0]: prop_a, d[1] : prop_b}))\n",
    "\n",
    "            # Element Property extraction\n",
    "\n",
    "            temp_data['avg_atomic_mass'] = prop_a*a.atomic_mass + prop_b*b.atomic_mass\n",
    "            temp_data['avg_row'] = prop_a*a.row + prop_b*b.row\n",
    "            temp_data['max_z_diff'] = abs (a.Z - b.Z) # Max Difference in atomic number\n",
    "            temp_data['avg_z'] = prop_a*a.Z + prop_b*b.Z\n",
    "            temp_data['max_radius_diff'] = abs (a.atomic_radius - b.atomic_radius) # Max Difference in atomic radius\n",
    "            temp_data['avg_radius'] = prop_a*a.atomic_radius + prop_b*b.atomic_radius\n",
    "            temp_data['max_en_diff'] = abs (a.X - b.X) # Max Difference in electronegativity\n",
    "            temp_data['avg_en'] = prop_a*a.X + prop_b*b.X # Avg Difference in electronegativity\n",
    "            return_data.append(temp_data)\n",
    "        except TypeError:\n",
    "            pass\n",
    "    return return_data"
   ]
  },
  {
   "cell_type": "code",
   "execution_count": null,
   "metadata": {
    "collapsed": false
   },
   "outputs": [],
   "source": [
    "import pandas as pd\n",
    "\n",
    "master = pd.DataFrame()\n",
    "\n",
    "for item in binary_sys:\n",
    "    item = item.encode('ascii')\n",
    "    temp = pd.DataFrame(material_load(item))\n",
    "    master.append(temp)\n",
    "master"
   ]
  },
  {
   "cell_type": "code",
   "execution_count": 11,
   "metadata": {
    "collapsed": false
   },
   "outputs": [
    {
     "data": {
      "text/html": [
       "<div style=\"max-height:1000px;max-width:1500px;overflow:auto;\">\n",
       "<table border=\"1\" class=\"dataframe\">\n",
       "  <thead>\n",
       "    <tr style=\"text-align: right;\">\n",
       "      <th></th>\n",
       "    </tr>\n",
       "  </thead>\n",
       "  <tbody>\n",
       "  </tbody>\n",
       "</table>\n",
       "</div>"
      ],
      "text/plain": [
       "Empty DataFrame\n",
       "Columns: []\n",
       "Index: []"
      ]
     },
     "execution_count": 11,
     "metadata": {},
     "output_type": "execute_result"
    }
   ],
   "source": [
    "master"
   ]
  },
  {
   "cell_type": "code",
   "execution_count": null,
   "metadata": {
    "collapsed": true
   },
   "outputs": [],
   "source": [
    "## Scratch work \n",
    "%doctest_mode \n",
    "k = Element('Fe')\n",
    "k.common_oxidation_states\n",
    "entry = mp.get_entries_in_chemsys(['Ag','As'])\n",
    "pd = PhaseDiagram(entry)\n",
    "pd_analyse = PDAnalyzer(pd)\n",
    "pd_analyse.get_hull_energy(Composition.from_dict({'Ag': 0.02, 'As': 0.98}))\n",
    "binary_sys[10]\n",
    "Composition.from_dict({'Fe': 0.02, 'O': 0.98})\n",
    "i = 1\n",
    "prop()[-i]"
   ]
  },
  {
   "cell_type": "code",
   "execution_count": 18,
   "metadata": {
    "collapsed": false
   },
   "outputs": [
    {
     "data": {
      "text/plain": [
       "0     1.61\n",
       "1     1.61\n",
       "2     1.61\n",
       "3     1.61\n",
       "4     1.61\n",
       "5     1.61\n",
       "6     1.61\n",
       "7     1.61\n",
       "8     1.61\n",
       "9     1.61\n",
       "10    1.61\n",
       "11    1.61\n",
       "12    1.61\n",
       "13    1.61\n",
       "14    1.61\n",
       "15    1.61\n",
       "16    1.61\n",
       "17    1.61\n",
       "18    1.61\n",
       "0     2.15\n",
       "1     2.15\n",
       "2     2.15\n",
       "3     2.15\n",
       "4     2.15\n",
       "5     2.15\n",
       "6     2.15\n",
       "7     2.15\n",
       "8     2.15\n",
       "9     2.15\n",
       "10    2.15\n",
       "11    2.15\n",
       "12    2.15\n",
       "13    2.15\n",
       "14    2.15\n",
       "15    2.15\n",
       "16    2.15\n",
       "17    2.15\n",
       "18    2.15\n",
       "0     3.05\n",
       "1     3.05\n",
       "2     3.05\n",
       "3     3.05\n",
       "4     3.05\n",
       "5     3.05\n",
       "6     3.05\n",
       "7     3.05\n",
       "8     3.05\n",
       "9     3.05\n",
       "10    3.05\n",
       "11    3.05\n",
       "12    3.05\n",
       "13    3.05\n",
       "14    3.05\n",
       "15    3.05\n",
       "16    3.05\n",
       "17    3.05\n",
       "18    3.05\n",
       "Name: max_en_diff, Length: 57, dtype: float64"
      ]
     },
     "execution_count": 18,
     "metadata": {},
     "output_type": "execute_result"
    }
   ],
   "source": [
    "k = pd.DataFrame(material_load('Fe-F'))\n",
    "m = pd.DataFrame(material_load('Fe-O'))\n",
    "o = pd.DataFrame(material_load('Na-F'))\n",
    "m.append([k,o]).max_en_diff"
   ]
  },
  {
   "cell_type": "code",
   "execution_count": 21,
   "metadata": {
    "collapsed": false
   },
   "outputs": [
    {
     "ename": "SyntaxError",
     "evalue": "invalid syntax (terminal_bar.py, line 24)",
     "output_type": "error",
     "traceback": [
      "\u001b[0;36m  File \u001b[0;32m\"/Users/avinana/anaconda/lib/python2.7/site-packages/ipy_progressbar/terminal_bar.py\"\u001b[0;36m, line \u001b[0;32m24\u001b[0m\n\u001b[0;31m    print(s, end=' ')\u001b[0m\n\u001b[0m                ^\u001b[0m\n\u001b[0;31mSyntaxError\u001b[0m\u001b[0;31m:\u001b[0m invalid syntax\n"
     ]
    }
   ],
   "source": [
    "from ipy_progressbar import ProgressBar\n",
    "k = 0\n",
    "pb = ProgressBar(10, title='Outer', key='outer')\n",
    "for i in pb:\n",
    "    pb_inner = ProgressBar(5, title='Inner', key='inner')\n",
    "    for j in pb_inner:\n",
    "        k = k+2"
   ]
  },
  {
   "cell_type": "code",
   "execution_count": null,
   "metadata": {
    "collapsed": true
   },
   "outputs": [],
   "source": []
  }
 ],
 "metadata": {
  "kernelspec": {
   "display_name": "Python 2",
   "language": "python",
   "name": "python2"
  },
  "language_info": {
   "codemirror_mode": {
    "name": "ipython",
    "version": 2
   },
   "file_extension": ".py",
   "mimetype": "text/x-python",
   "name": "python",
   "nbconvert_exporter": "python",
   "pygments_lexer": "ipython2",
   "version": "2.7.9"
  }
 },
 "nbformat": 4,
 "nbformat_minor": 0
}
